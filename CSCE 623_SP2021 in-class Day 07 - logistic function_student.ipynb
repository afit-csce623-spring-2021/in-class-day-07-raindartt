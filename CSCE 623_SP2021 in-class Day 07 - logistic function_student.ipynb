{
  "nbformat": 4,
  "nbformat_minor": 0,
  "metadata": {
    "kernelspec": {
      "display_name": "Python 3",
      "language": "python",
      "name": "python3"
    },
    "language_info": {
      "codemirror_mode": {
        "name": "ipython",
        "version": 3
      },
      "file_extension": ".py",
      "mimetype": "text/x-python",
      "name": "python",
      "nbconvert_exporter": "python",
      "pygments_lexer": "ipython3",
      "version": "3.8.5"
    },
    "colab": {
      "name": "CSCE 623_SP2021 in-class Day 07 - logistic function_student.ipynb",
      "provenance": [],
      "include_colab_link": true
    }
  },
  "cells": [
    {
      "cell_type": "markdown",
      "metadata": {
        "id": "view-in-github",
        "colab_type": "text"
      },
      "source": [
        "<a href=\"https://colab.research.google.com/github/afit-csce623-spring-2021/in-class-day-07-raindartt/blob/main/CSCE%20623_SP2021%20in-class%20Day%2007%20-%20logistic%20function_student.ipynb\" target=\"_parent\"><img src=\"https://colab.research.google.com/assets/colab-badge.svg\" alt=\"Open In Colab\"/></a>"
      ]
    },
    {
      "cell_type": "markdown",
      "metadata": {
        "id": "zSy8kbUZCE0W"
      },
      "source": [
        "# Day 7 \n",
        "Logistic Regression In Class Work"
      ]
    },
    {
      "cell_type": "code",
      "metadata": {
        "id": "ofJaAejZCE0b"
      },
      "source": [
        "import numpy as np\n",
        "import matplotlib.pyplot as plt"
      ],
      "execution_count": 17,
      "outputs": []
    },
    {
      "cell_type": "markdown",
      "metadata": {
        "id": "BpBc3o9lCE0c"
      },
      "source": [
        "Helper function"
      ]
    },
    {
      "cell_type": "code",
      "metadata": {
        "id": "cCT1mxvACE0c"
      },
      "source": [
        "def plotlogistic(x,py):\n",
        "    \"\"\" Plots x vs. prob(y)\n",
        "        Designed for logistic function \n",
        "    \"\"\"\n",
        "    fig = plt.figure()\n",
        "    ax = fig.add_subplot(111)\n",
        "    ax.plot(x,py)\n",
        "    ax.xaxis.set(ticks=range(-5,6))\n",
        "    ax.grid(axis='both')\n",
        "    plt.xlabel('x')\n",
        "    plt.ylabel('probability of y')\n",
        "    plt.title('Logistic Curve')\n",
        "    plt.show()"
      ],
      "execution_count": 2,
      "outputs": []
    },
    {
      "cell_type": "markdown",
      "metadata": {
        "id": "j0U10vs7CE0d"
      },
      "source": [
        "The Logistic Function for a single feature is\n",
        "\n",
        "$$ p=P(y=1)=\\frac{e^{\\beta_0+\\beta_{1}X_{1}}}{1+e^{\\beta_0+\\beta_1X_1} }$$"
      ]
    },
    {
      "cell_type": "markdown",
      "metadata": {
        "id": "GIPpYSt5CE0d"
      },
      "source": [
        "## Develop the logistic function - Student Coding part a:\n",
        "\n",
        "Define a python function to compute $P(y=1)$ from an input signature ```(x,beta0,beta1)``` where each beta is a scalar, X1 is a (n by 1) matrix and $P(y=1)$ is a (n by 1) matrix\n",
        "\n",
        "Don't forget to delete or comment this line in the code below:\n",
        "\n",
        "`raise NotImplementedError()  #delete or comment this line after youve written your code`\n"
      ]
    },
    {
      "cell_type": "code",
      "metadata": {
        "id": "7JASzScECE0d"
      },
      "source": [
        "def logistic1D(beta0,beta1):\n",
        "    \"\"\" Return the probability of the logistic function for 1-Dimensional x\n",
        "        at the specified values of beta0 and beta1\n",
        "        will return an an item with the same shape as x which should be a vector.\n",
        "    \"\"\"\n",
        "    lx = beta0/beta1 - 6\n",
        "    rx = beta0/beta1 + 6\n",
        "    x = np.arange(lx, rx, 0.01)\n",
        "    prob_y = np.zeros(x.shape)  #placeholder for return value\n",
        "\n",
        "    #------INSERT STUDENT CODE HERE TO COMPUTE THE LOGISTIC FUNCTION-----------\n",
        "    prob_y = 1 / (1 + np.exp(-(beta0 + beta1 * x)))\n",
        "\n",
        "    #raise NotImplementedError()   #delete or comment this line after youve written your code\n",
        "    #------------END OF STUDENT CODE-------------------------\n",
        "    \n",
        "    return x, prob_y\n"
      ],
      "execution_count": 62,
      "outputs": []
    },
    {
      "cell_type": "markdown",
      "metadata": {
        "id": "KwzgLkHHCE0e"
      },
      "source": [
        "Instantiate x values"
      ]
    },
    {
      "cell_type": "code",
      "metadata": {
        "id": "cp9RTEPSCE0e"
      },
      "source": [
        "#x = np.arange(-6, 6, 0.01)"
      ],
      "execution_count": 7,
      "outputs": []
    },
    {
      "cell_type": "markdown",
      "metadata": {
        "id": "xnd03RDuCE0e"
      },
      "source": [
        "Beta Selection for canonical S curve: Student Coding for part c\n",
        "\n",
        "Your goal is to select scalar values for ```beta0``` and ```beta1``` to replicate s-curve canonical logistic function shape shown in the image below\n",
        "\n",
        "<img src=\"https://github.com/afit-csce623-spring-2021/in-class-day-07-raindartt/blob/main/Logistic-S-curve-canonical.png?raw=1\">\n",
        "\n",
        "Don't forget to delete or comment this line in the code below:\n",
        "\n",
        "`raise NotImplementedError()  #delete or comment this line after youve written your code`\n"
      ]
    },
    {
      "cell_type": "code",
      "metadata": {
        "id": "ecQ0v7LmCE0e"
      },
      "source": [
        "#select betas to try to recreate graph in part C\n",
        "\n",
        "#------INSERT STUDENT CODE HERE FOR BETAS------------\n",
        "b0 = 0.0  #placeholder\n",
        "b1 = 1.0  #placeholder\n",
        "#raise NotImplementedError()  #delete or comment this line after youve written your code\n",
        "#----------------------------------------------------"
      ],
      "execution_count": 42,
      "outputs": []
    },
    {
      "cell_type": "markdown",
      "metadata": {
        "id": "BMMDx8OgCE0f"
      },
      "source": [
        "build the resulting logistic graph"
      ]
    },
    {
      "cell_type": "code",
      "metadata": {
        "colab": {
          "base_uri": "https://localhost:8080/",
          "height": 295
        },
        "id": "3A7-0WreCE0f",
        "outputId": "62bd3cb8-2222-4c0c-febf-76e3d41c858a"
      },
      "source": [
        "# extra feature to zoom on b0 implemented in 1D\n",
        "x, py = logistic1D(b0,b1) \n",
        "plotlogistic(x,py)"
      ],
      "execution_count": 43,
      "outputs": [
        {
          "output_type": "display_data",
          "data": {
            "image/png": "[encoded data removed]",
            "text/plain": [
              "<Figure size 432x288 with 1 Axes>"
            ]
          },
          "metadata": {
            "tags": [],
            "needs_background": "light"
          }
        }
      ]
    },
    {
      "cell_type": "markdown",
      "metadata": {
        "id": "oTq0qFHLCE0f"
      },
      "source": [
        "## Beta Selection for Stairstep down: Student Coding for part F\n",
        "\n",
        "Your goal is to select scalar values for ```beta0``` and ```beta1``` to replicate downward step-function shape using the logistic function shown in the image below\n",
        "\n",
        "<img src=\"https://github.com/afit-csce623-spring-2021/in-class-day-07-raindartt/blob/main/Logistic-stairstep-down.png?raw=1\">\n",
        "\n",
        "Don't forget to delete or comment this line in the code below:\n",
        "\n",
        "`raise NotImplementedError()  #delete or comment this line after youve written your code`\n",
        "\n"
      ]
    },
    {
      "cell_type": "code",
      "metadata": {
        "id": "-a4JltAUCE0f"
      },
      "source": [
        "#select betas to try to recreate graph in instructions part F\n",
        "\n",
        "#------INSERT STUDENT CODE HERE FOR BETAS------------\n",
        "b1 = -1000.0  #placeholder\n",
        "b0 = 1 * b1  #placeholder\n",
        "#raise NotImplementedError()   #delete or comment this line after youve written your code\n",
        "#----------------------------------------------------"
      ],
      "execution_count": 64,
      "outputs": []
    },
    {
      "cell_type": "markdown",
      "metadata": {
        "id": "0Yep5iKbCE0g"
      },
      "source": [
        "build the resulting logistic graph"
      ]
    },
    {
      "cell_type": "code",
      "metadata": {
        "colab": {
          "base_uri": "https://localhost:8080/",
          "height": 329
        },
        "id": "aDn6kN6kCE0g",
        "outputId": "a3316f96-74bc-4cdd-8cce-061e99cb7f4a"
      },
      "source": [
        "x, py = logistic1D(b0,b1) \n",
        "plotlogistic(x,py)"
      ],
      "execution_count": 65,
      "outputs": [
        {
          "output_type": "stream",
          "text": [
            "/usr/local/lib/python3.7/dist-packages/ipykernel_launcher.py:12: RuntimeWarning: overflow encountered in exp\n",
            "  if sys.path[0] == '':\n"
          ],
          "name": "stderr"
        },
        {
          "output_type": "display_data",
          "data": {
            "image/png": "[encoded data removed]",
            "text/plain": [
              "<Figure size 432x288 with 1 Axes>"
            ]
          },
          "metadata": {
            "tags": [],
            "needs_background": "light"
          }
        }
      ]
    }
  ]
}